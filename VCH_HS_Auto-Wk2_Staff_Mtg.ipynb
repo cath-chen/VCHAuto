{
 "cells": [
  {
   "cell_type": "code",
   "execution_count": null,
   "id": "6f269370",
   "metadata": {},
   "outputs": [],
   "source": [
    "import pandas as pd\n",
    "hs = pd.read_csv('./week1_hs_test.csv') #enter csv here\n",
    "hs['Full Name'] = hs['Full Name'].str.upper()\n",
    "\n",
    "# agm = hs[hs['What Health Sites would you be available for? '].isin(['November 18 (Asian Garden Mall)', 'November 18 (Asian Garden Mall), November 19 (Santa Ana Plaza)'])]\n",
    "# sap = hs[hs['What Health Sites would you be available for? '].isin(['November 19 (Santa Ana Plaza)', 'November 18 (Asian Garden Mall), November 19 (Santa Ana Plaza)'])]\n",
    "# agm"
   ]
  },
  {
   "cell_type": "code",
   "execution_count": null,
   "id": "920b5661",
   "metadata": {},
   "outputs": [],
   "source": [
    "# sap"
   ]
  },
  {
   "cell_type": "code",
   "execution_count": null,
   "id": "8fcf33ef",
   "metadata": {},
   "outputs": [],
   "source": [
    "# og df = hs\n",
    "\n",
    "# new empty df with the same columns as the og df\n",
    "agm_invites = pd.DataFrame(columns=hs.columns)\n",
    "\n",
    "# function to select people for viet and hypertension and move to new df\n",
    "def select_volunteers_agm(row):\n",
    "    global hs, agm_invites\n",
    "    \n",
    "    date = row['What Health Sites would you be available for? ']\n",
    "    vietnamese_proficiency = row['Do you speak Vietnamese?']\n",
    "    hypertension_trained = row['Are you Hypertension trained?']\n",
    "    location = row['Do you need a ride from UCLA?']\n",
    "    \n",
    "    # Check conditions\n",
    "\n",
    "    if date in ['November 18 (Asian Garden Mall)', 'November 18 (Asian Garden Mall), November 19 (Santa Ana Plaza)']:\n",
    "        if vietnamese_proficiency in ['Yes, I am fluent', 'Yes, but conversational']:\n",
    "            if len(agm_invites[agm_invites['Do you speak Vietnamese?'].isin(['Yes, I am fluent', 'Yes, but conversational'])]) < 3: \n",
    "                agm_invites = agm_invites._append(row, ignore_index=True)\n",
    "                hs = hs.drop(index=row.name)\n",
    "            \n",
    "    else:\n",
    "        if date in ['November 18 (Asian Garden Mall)', 'November 18 (Asian Garden Mall), November 19 (Santa Ana Plaza)']:\n",
    "            if hypertension_trained in ['Yes']:\n",
    "                if len(agm_invites[agm_invites['Are you Hypertension trained?'].isin(['Yes'])]) < 3:\n",
    "                    agm_invites = agm_invites._append(row, ignore_index=True)\n",
    "                    hs = hs.drop(index=row.name)  \n",
    "\n",
    "\n",
    "# function to randomly select remaining people to fill 10 people from ucla and 6 people from home for agm\n",
    "def select_random_agm(row):\n",
    "    global hs, agm_invites\n",
    "    \n",
    "    date = row['What Health Sites would you be available for? ']\n",
    "    location = row['Do you need a ride from UCLA?']\n",
    "    \n",
    "    if date in ['November 18 (Asian Garden Mall)', 'November 18 (Asian Garden Mall), November 19 (Santa Ana Plaza)']:\n",
    "        if location in ['Yes']:\n",
    "            if len(agm_invites[agm_invites['Do you need a ride from UCLA?'].isin(['Yes'])]) < 9:\n",
    "                agm_invites = agm_invites._append(row, ignore_index=True)\n",
    "                hs = hs.drop(index=row.name)\n",
    "            \n",
    "    if date in ['November 18 (Asian Garden Mall)', 'November 18 (Asian Garden Mall), November 19 (Santa Ana Plaza)']:\n",
    "        if location in ['No, I can provide my own ride.']:\n",
    "            if len(agm_invites[agm_invites['Do you need a ride from UCLA?'].isin(['No, I can provide my own ride.'])]) < 6:\n",
    "                agm_invites = agm_invites._append(row, ignore_index=True)\n",
    "                hs = hs.drop(index=row.name)\n",
    "    \n",
    "    \n",
    "    \n",
    "    \n",
    "# new empty df with the same columns as the og df\n",
    "sap_invites = pd.DataFrame(columns=hs.columns)\n",
    "\n",
    "# function to select people for spanish and hypertension and move to new df\n",
    "def select_volunteers_sap(row):\n",
    "    global hs, sap_invites\n",
    "    \n",
    "    date = row['What Health Sites would you be available for? ']\n",
    "    spanish_proficiency = row['Do you speak Spanish?']\n",
    "    hypertension_trained = row['Are you Hypertension trained?']\n",
    "    location = row['Do you need a ride from UCLA?']\n",
    "    \n",
    "    # Check conditions\n",
    "    if date in ['November 19 (Santa Ana Plaza)', 'November 18 (Asian Garden Mall), November 19 (Santa Ana Plaza)']:\n",
    "        if spanish_proficiency in ['Yes, I am fluent', 'Yes, but conversational']:\n",
    "            if len(sap_invites[sap_invites['Do you speak Spanish?'].isin(['Yes, I am fluent', 'Yes, but conversational'])]) < 3: \n",
    "                sap_invites = sap_invites._append(row, ignore_index=True)\n",
    "                hs = hs.drop(index=row.name)\n",
    "            \n",
    "    else:\n",
    "        if date in ['November 19 (Santa Ana Plaza)', 'November 18 (Asian Garden Mall), November 19 (Santa Ana Plaza)']:\n",
    "            if hypertension_trained in ['Yes']:\n",
    "                if len(sap_invites[sap_invites['Are you Hypertension trained?'].isin(['Yes'])]) < 3:\n",
    "                    sap_invites = sap_invites._append(row, ignore_index=True)\n",
    "                    hs = hs.drop(index=row.name)  \n",
    "            \n",
    "# function to randomly select remaining people to fill 10 people from ucla and 6 people from home for sap\n",
    "def select_random_sap(row):\n",
    "    global hs, sap_invites\n",
    "    \n",
    "    date = row['What Health Sites would you be available for? ']\n",
    "    location = row['Do you need a ride from UCLA?']\n",
    "    \n",
    "    if date in ['November 19 (Santa Ana Plaza)', 'November 18 (Asian Garden Mall), November 19 (Santa Ana Plaza)']:\n",
    "        if location in ['Yes']:\n",
    "            if len(sap_invites[sap_invites['Do you need a ride from UCLA?'].isin(['Yes'])]) < 9:\n",
    "                sap_invites = sap_invites._append(row, ignore_index=True)\n",
    "                hs = hs.drop(index=row.name)\n",
    "            \n",
    "    if date in ['November 19 (Santa Ana Plaza)', 'November 18 (Asian Garden Mall), November 19 (Santa Ana Plaza)']:\n",
    "        if location in ['No, I can provide my own ride.']:\n",
    "            if len(sap_invites[sap_invites['Do you need a ride from UCLA?'].isin(['No, I can provide my own ride.'])]) < 6:\n",
    "                sap_invites = sap_invites._append(row, ignore_index=True)\n",
    "                hs = hs.drop(index=row.name)"
   ]
  },
  {
   "cell_type": "code",
   "execution_count": null,
   "id": "41abc56b",
   "metadata": {
    "scrolled": true
   },
   "outputs": [],
   "source": [
    "# Loop through rows in the original dataframe for sap\n",
    "for index, row in hs.iterrows():\n",
    "    select_volunteers_sap(row)\n",
    "\n",
    "for index, row in hs.iterrows():\n",
    "    select_random_sap(row)"
   ]
  },
  {
   "cell_type": "code",
   "execution_count": null,
   "id": "f6ee38d2",
   "metadata": {},
   "outputs": [],
   "source": [
    "sap_invites"
   ]
  },
  {
   "cell_type": "code",
   "execution_count": null,
   "id": "fb0ab5a2",
   "metadata": {},
   "outputs": [],
   "source": [
    "# Loop through rows in the original dataframe for agm\n",
    "for index, row in hs.iterrows():\n",
    "    select_volunteers_agm(row)\n",
    "\n",
    "for index, row in hs.iterrows():\n",
    "    select_random_agm(row)"
   ]
  },
  {
   "cell_type": "code",
   "execution_count": null,
   "id": "76c02fe8",
   "metadata": {},
   "outputs": [],
   "source": [
    "agm_invites"
   ]
  },
  {
   "cell_type": "code",
   "execution_count": null,
   "id": "d013e864",
   "metadata": {},
   "outputs": [],
   "source": [
    "hs"
   ]
  },
  {
   "cell_type": "code",
   "execution_count": null,
   "id": "16f6503a",
   "metadata": {},
   "outputs": [],
   "source": [
    "hs = pd.concat([agm_invites, sap_invites, hs])\n",
    "hs.to_csv('week1_hs_final.csv')"
   ]
  },
  {
   "cell_type": "code",
   "execution_count": null,
   "id": "ef2b561d",
   "metadata": {},
   "outputs": [],
   "source": [
    "import pandas as pd\n",
    "agm = pd.read_csv('W24 Week 2 Health Site Sign-Up.csv') #enter csv here\n",
    "agm['Full Name'] = agm['Full Name'].str.upper()\n",
    "\n",
    "agm"
   ]
  },
  {
   "cell_type": "code",
   "execution_count": null,
   "id": "e8fbd476",
   "metadata": {},
   "outputs": [],
   "source": [
    "agm_invites = pd.DataFrame(columns=agm.columns)\n",
    "\n",
    "# function to select people for viet and hypertension and move to new df\n",
    "def select_volunteers_agm(row):\n",
    "    global agm, agm_invites\n",
    "    \n",
    "    vietnamese_proficiency = row['Do you speak Vietnamese?']\n",
    "    hypertension_trained = row['Are you Hypertension trained?']\n",
    "    location = row['Do you need a ride from UCLA?']\n",
    "    \n",
    "    # Check conditions\n",
    "\n",
    "    if vietnamese_proficiency in ['Yes, I am fluent', 'Yes, but conversational']:\n",
    "        if len(agm_invites[agm_invites['Do you speak Vietnamese?'].isin(['Yes, I am fluent', 'Yes, but conversational'])]) < 3: \n",
    "            agm_invites = agm_invites._append(row, ignore_index=True)\n",
    "            agm = agm.drop(index=row.name)\n",
    "            \n",
    "    else:\n",
    "        if hypertension_trained in ['Yes']:\n",
    "            if len(agm_invites[agm_invites['Are you Hypertension trained?'].isin(['Yes'])]) < 3:\n",
    "                agm_invites = agm_invites._append(row, ignore_index=True)\n",
    "                agm = agm.drop(index=row.name)  \n",
    "\n",
    "\n",
    "# function to randomly select remaining people to fill 10 people from ucla and 6 people from home for agm\n",
    "def select_random_agm(row):\n",
    "    global agm, agm_invites\n",
    "    \n",
    "    location = row['Do you need a ride from UCLA?']\n",
    "    \n",
    "    if location in ['Yes']:\n",
    "        if len(agm_invites[agm_invites['Do you need a ride from UCLA?'].isin(['Yes'])]) < 10:\n",
    "            agm_invites = agm_invites._append(row, ignore_index=True)\n",
    "            agm = agm.drop(index=row.name)\n",
    "            \n",
    "    if location in ['No, I can provide my own ride.']:\n",
    "        if len(agm_invites[agm_invites['Do you need a ride from UCLA?'].isin(['No, I can provide my own ride.'])]) < 6:\n",
    "            agm_invites = agm_invites._append(row, ignore_index=True)\n",
    "            agm = agm.drop(index=row.name)"
   ]
  },
  {
   "cell_type": "code",
   "execution_count": null,
   "id": "4c62e5ec",
   "metadata": {},
   "outputs": [],
   "source": [
    "for index, row in agm.iterrows():\n",
    "    select_volunteers_agm(row)\n",
    "\n",
    "for index, row in agm.iterrows():\n",
    "    select_random_agm(row)"
   ]
  },
  {
   "cell_type": "code",
   "execution_count": null,
   "id": "7e6a45fb",
   "metadata": {},
   "outputs": [],
   "source": [
    "agm_invites"
   ]
  },
  {
   "cell_type": "code",
   "execution_count": null,
   "id": "582bc329",
   "metadata": {},
   "outputs": [],
   "source": [
    "agm"
   ]
  },
  {
   "cell_type": "code",
   "execution_count": null,
   "id": "61318875",
   "metadata": {},
   "outputs": [],
   "source": []
  }
 ],
 "metadata": {
  "kernelspec": {
   "display_name": "Python 3 (ipykernel)",
   "language": "python",
   "name": "python3"
  },
  "language_info": {
   "codemirror_mode": {
    "name": "ipython",
    "version": 3
   },
   "file_extension": ".py",
   "mimetype": "text/x-python",
   "name": "python",
   "nbconvert_exporter": "python",
   "pygments_lexer": "ipython3",
   "version": "3.8.8"
  }
 },
 "nbformat": 4,
 "nbformat_minor": 5
}
